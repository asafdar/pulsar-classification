{
 "cells": [
  {
   "cell_type": "markdown",
   "metadata": {},
   "source": [
    "## Classification of Pulsars"
   ]
  },
  {
   "cell_type": "code",
   "execution_count": 1,
   "metadata": {},
   "outputs": [],
   "source": [
    "import pandas as pd\n",
    "import numpy as np\n",
    "import matplotlib.pyplot as plt\n",
    "import seaborn as sns\n",
    "from sklearn.datasets import make_classification\n",
    "from sklearn.linear_model import LogisticRegression\n",
    "from sklearn.model_selection import train_test_split\n",
    "from sklearn.metrics import confusion_matrix\n",
    "\n",
    "%matplotlib inline\n",
    "%load_ext autoreload\n",
    "%autoreload 2\n",
    "import warnings\n",
    "warnings.filterwarnings('ignore')"
   ]
  },
  {
   "cell_type": "markdown",
   "metadata": {},
   "source": [
    "### Import data"
   ]
  },
  {
   "cell_type": "code",
   "execution_count": 2,
   "metadata": {},
   "outputs": [
    {
     "data": {
      "text/html": [
       "<div>\n",
       "<style scoped>\n",
       "    .dataframe tbody tr th:only-of-type {\n",
       "        vertical-align: middle;\n",
       "    }\n",
       "\n",
       "    .dataframe tbody tr th {\n",
       "        vertical-align: top;\n",
       "    }\n",
       "\n",
       "    .dataframe thead th {\n",
       "        text-align: right;\n",
       "    }\n",
       "</style>\n",
       "<table border=\"1\" class=\"dataframe\">\n",
       "  <thead>\n",
       "    <tr style=\"text-align: right;\">\n",
       "      <th></th>\n",
       "      <th>Mean of the integrated profile</th>\n",
       "      <th>Standard deviation of the integrated profile</th>\n",
       "      <th>Excess kurtosis of the integrated profile</th>\n",
       "      <th>Skewness of the integrated profile</th>\n",
       "      <th>Mean of the DM-SNR curve</th>\n",
       "      <th>Standard deviation of the DM-SNR curve</th>\n",
       "      <th>Excess kurtosis of the DM-SNR curve</th>\n",
       "      <th>Skewness of the DM-SNR curve</th>\n",
       "      <th>target_class</th>\n",
       "    </tr>\n",
       "  </thead>\n",
       "  <tbody>\n",
       "    <tr>\n",
       "      <th>0</th>\n",
       "      <td>140.562500</td>\n",
       "      <td>55.683782</td>\n",
       "      <td>-0.234571</td>\n",
       "      <td>-0.699648</td>\n",
       "      <td>3.199833</td>\n",
       "      <td>19.110426</td>\n",
       "      <td>7.975532</td>\n",
       "      <td>74.242225</td>\n",
       "      <td>0</td>\n",
       "    </tr>\n",
       "    <tr>\n",
       "      <th>1</th>\n",
       "      <td>102.507812</td>\n",
       "      <td>58.882430</td>\n",
       "      <td>0.465318</td>\n",
       "      <td>-0.515088</td>\n",
       "      <td>1.677258</td>\n",
       "      <td>14.860146</td>\n",
       "      <td>10.576487</td>\n",
       "      <td>127.393580</td>\n",
       "      <td>0</td>\n",
       "    </tr>\n",
       "    <tr>\n",
       "      <th>2</th>\n",
       "      <td>103.015625</td>\n",
       "      <td>39.341649</td>\n",
       "      <td>0.323328</td>\n",
       "      <td>1.051164</td>\n",
       "      <td>3.121237</td>\n",
       "      <td>21.744669</td>\n",
       "      <td>7.735822</td>\n",
       "      <td>63.171909</td>\n",
       "      <td>0</td>\n",
       "    </tr>\n",
       "    <tr>\n",
       "      <th>3</th>\n",
       "      <td>136.750000</td>\n",
       "      <td>57.178449</td>\n",
       "      <td>-0.068415</td>\n",
       "      <td>-0.636238</td>\n",
       "      <td>3.642977</td>\n",
       "      <td>20.959280</td>\n",
       "      <td>6.896499</td>\n",
       "      <td>53.593661</td>\n",
       "      <td>0</td>\n",
       "    </tr>\n",
       "    <tr>\n",
       "      <th>4</th>\n",
       "      <td>88.726562</td>\n",
       "      <td>40.672225</td>\n",
       "      <td>0.600866</td>\n",
       "      <td>1.123492</td>\n",
       "      <td>1.178930</td>\n",
       "      <td>11.468720</td>\n",
       "      <td>14.269573</td>\n",
       "      <td>252.567306</td>\n",
       "      <td>0</td>\n",
       "    </tr>\n",
       "  </tbody>\n",
       "</table>\n",
       "</div>"
      ],
      "text/plain": [
       "    Mean of the integrated profile  \\\n",
       "0                       140.562500   \n",
       "1                       102.507812   \n",
       "2                       103.015625   \n",
       "3                       136.750000   \n",
       "4                        88.726562   \n",
       "\n",
       "    Standard deviation of the integrated profile  \\\n",
       "0                                      55.683782   \n",
       "1                                      58.882430   \n",
       "2                                      39.341649   \n",
       "3                                      57.178449   \n",
       "4                                      40.672225   \n",
       "\n",
       "    Excess kurtosis of the integrated profile  \\\n",
       "0                                   -0.234571   \n",
       "1                                    0.465318   \n",
       "2                                    0.323328   \n",
       "3                                   -0.068415   \n",
       "4                                    0.600866   \n",
       "\n",
       "    Skewness of the integrated profile   Mean of the DM-SNR curve  \\\n",
       "0                            -0.699648                   3.199833   \n",
       "1                            -0.515088                   1.677258   \n",
       "2                             1.051164                   3.121237   \n",
       "3                            -0.636238                   3.642977   \n",
       "4                             1.123492                   1.178930   \n",
       "\n",
       "    Standard deviation of the DM-SNR curve  \\\n",
       "0                                19.110426   \n",
       "1                                14.860146   \n",
       "2                                21.744669   \n",
       "3                                20.959280   \n",
       "4                                11.468720   \n",
       "\n",
       "    Excess kurtosis of the DM-SNR curve   Skewness of the DM-SNR curve  \\\n",
       "0                              7.975532                      74.242225   \n",
       "1                             10.576487                     127.393580   \n",
       "2                              7.735822                      63.171909   \n",
       "3                              6.896499                      53.593661   \n",
       "4                             14.269573                     252.567306   \n",
       "\n",
       "   target_class  \n",
       "0             0  \n",
       "1             0  \n",
       "2             0  \n",
       "3             0  \n",
       "4             0  "
      ]
     },
     "execution_count": 2,
     "metadata": {},
     "output_type": "execute_result"
    }
   ],
   "source": [
    "df = pd.read_csv('data/pulsar_stars.csv')\n",
    "df.head()"
   ]
  },
  {
   "cell_type": "markdown",
   "metadata": {},
   "source": [
    "### Check for null values"
   ]
  },
  {
   "cell_type": "code",
   "execution_count": 3,
   "metadata": {},
   "outputs": [
    {
     "name": "stdout",
     "output_type": "stream",
     "text": [
      "<class 'pandas.core.frame.DataFrame'>\n",
      "RangeIndex: 17898 entries, 0 to 17897\n",
      "Data columns (total 9 columns):\n",
      " Mean of the integrated profile                  17898 non-null float64\n",
      " Standard deviation of the integrated profile    17898 non-null float64\n",
      " Excess kurtosis of the integrated profile       17898 non-null float64\n",
      " Skewness of the integrated profile              17898 non-null float64\n",
      " Mean of the DM-SNR curve                        17898 non-null float64\n",
      " Standard deviation of the DM-SNR curve          17898 non-null float64\n",
      " Excess kurtosis of the DM-SNR curve             17898 non-null float64\n",
      " Skewness of the DM-SNR curve                    17898 non-null float64\n",
      "target_class                                     17898 non-null int64\n",
      "dtypes: float64(8), int64(1)\n",
      "memory usage: 1.2 MB\n"
     ]
    }
   ],
   "source": [
    "df.info()"
   ]
  },
  {
   "cell_type": "markdown",
   "metadata": {},
   "source": [
    "### Split data into test and training sets"
   ]
  },
  {
   "cell_type": "code",
   "execution_count": 10,
   "metadata": {},
   "outputs": [],
   "source": [
    "X = df.drop('target_class', axis=1)\n",
    "y = df['target_class']"
   ]
  },
  {
   "cell_type": "code",
   "execution_count": 11,
   "metadata": {},
   "outputs": [],
   "source": [
    "X_train, X_test, y_train, y_test = train_test_split(X, y, test_size = 0.2, random_state=42)"
   ]
  },
  {
   "cell_type": "code",
   "execution_count": 12,
   "metadata": {},
   "outputs": [
    {
     "data": {
      "text/plain": [
       "<matplotlib.axes._subplots.AxesSubplot at 0x1a23b8d470>"
      ]
     },
     "execution_count": 12,
     "metadata": {},
     "output_type": "execute_result"
    },
    {
     "data": {
      "image/png": "[encoded data removed]",
      "text/plain": [
       "<Figure size 432x288 with 1 Axes>"
      ]
     },
     "metadata": {
      "needs_background": "light"
     },
     "output_type": "display_data"
    }
   ],
   "source": [
    "sns.countplot(y)"
   ]
  },
  {
   "cell_type": "markdown",
   "metadata": {},
   "source": [
    "### Attempt SMOTE"
   ]
  },
  {
   "cell_type": "code",
   "execution_count": 34,
   "metadata": {},
   "outputs": [],
   "source": [
    "# from imblearn.over_sampling import SMOTE\n",
    "\n",
    "# y = df.target_class\n",
    "# X = df.drop('target_class', axis=1)\n",
    "\n",
    "# X_train, X_test, y_train, y_test = train_test_split(X, y, test_size=0.2, random_state=42)\n",
    "\n",
    "# sm = SMOTE(random_state=27, ratio=1.0)\n",
    "# X_train, y_train = sm.fit_sample(X_train, y_train)"
   ]
  },
  {
   "cell_type": "markdown",
   "metadata": {},
   "source": [
    "### Run base model and print metrics"
   ]
  },
  {
   "cell_type": "code",
   "execution_count": 13,
   "metadata": {},
   "outputs": [
    {
     "data": {
      "text/plain": [
       "array([[0.99356449, 0.00643551],\n",
       "       [0.28511591, 0.71488409],\n",
       "       [0.98255208, 0.01744792],\n",
       "       ...,\n",
       "       [0.99212468, 0.00787532],\n",
       "       [0.86873519, 0.13126481],\n",
       "       [0.00503084, 0.99496916]])"
      ]
     },
     "execution_count": 13,
     "metadata": {},
     "output_type": "execute_result"
    }
   ],
   "source": [
    "lr = LogisticRegression()\n",
    "lr.fit(X_train, y_train)\n",
    "y_hat_test = lr.predict(X_test)\n",
    "y_hat_proba = lr.predict_proba(X_test)\n",
    "y_hat_proba"
   ]
  },
  {
   "cell_type": "code",
   "execution_count": 14,
   "metadata": {},
   "outputs": [
    {
     "name": "stdout",
     "output_type": "stream",
     "text": [
      "0.979608938547486\n",
      "0.8286604361370716\n",
      "0.9366197183098591\n",
      "0.8793388429752066\n"
     ]
    }
   ],
   "source": [
    "from sklearn.metrics import accuracy_score, recall_score, precision_score, f1_score\n",
    "\n",
    "print(accuracy_score(y_test, y_hat_test))\n",
    "print(recall_score(y_test, y_hat_test))\n",
    "print(precision_score(y_test, y_hat_test))\n",
    "print(f1_score(y_test, y_hat_test))"
   ]
  },
  {
   "cell_type": "code",
   "execution_count": 15,
   "metadata": {},
   "outputs": [
    {
     "data": {
      "text/plain": [
       "array([[3241,   18],\n",
       "       [  55,  266]])"
      ]
     },
     "execution_count": 15,
     "metadata": {},
     "output_type": "execute_result"
    }
   ],
   "source": [
    "confusion_matrix(y_test, y_hat_test)"
   ]
  },
  {
   "cell_type": "code",
   "execution_count": 16,
   "metadata": {},
   "outputs": [],
   "source": [
    "df_test = pd.DataFrame({'X': X_test.iloc[:,0], 'y': y_test})\n",
    "df_test = df_test.sort_values(by='X')"
   ]
  },
  {
   "cell_type": "code",
   "execution_count": 17,
   "metadata": {},
   "outputs": [
    {
     "data": {
      "text/plain": [
       "<matplotlib.collections.PathCollection at 0x1a259c6f60>"
      ]
     },
     "execution_count": 17,
     "metadata": {},
     "output_type": "execute_result"
    },
    {
     "data": {
      "image/png": "[encoded data removed]",
      "text/plain": [
       "<Figure size 432x288 with 1 Axes>"
      ]
     },
     "metadata": {
      "needs_background": "light"
     },
     "output_type": "display_data"
    }
   ],
   "source": [
    "from scipy.special import expit\n",
    "\n",
    "sigmoid_function = expit(df_test['X'] * lr.coef_[0][0] + lr.intercept_[0]).ravel()\n",
    "plt.plot(df_test['X'], sigmoid_function)\n",
    "plt.scatter(df_test['X'], df_test['y'], c=df_test['y'], cmap='rainbow', edgecolors='b')"
   ]
  },
  {
   "cell_type": "markdown",
   "metadata": {},
   "source": [
    "### SMOTE logistic regression"
   ]
  },
  {
   "cell_type": "code",
   "execution_count": 30,
   "metadata": {},
   "outputs": [
    {
     "name": "stdout",
     "output_type": "stream",
     "text": [
      "0.979608938547486\n",
      "0.8286604361370716\n",
      "0.9366197183098591\n",
      "0.8793388429752066\n"
     ]
    }
   ],
   "source": [
    "# smote = LogisticRegression(solver='liblinear').fit(X_train, y_train)\n",
    "\n",
    "# smote_pred = smote.predict(X_test)\n",
    "\n",
    "# print(accuracy_score(y_test, y_hat_test))\n",
    "# print(recall_score(y_test, y_hat_test))\n",
    "# print(precision_score(y_test, y_hat_test))\n",
    "# print(f1_score(y_test, y_hat_test))"
   ]
  },
  {
   "cell_type": "markdown",
   "metadata": {},
   "source": [
    "### Plot ROC curve"
   ]
  },
  {
   "cell_type": "code",
   "execution_count": 18,
   "metadata": {},
   "outputs": [
    {
     "data": {
      "image/png": "[encoded data removed]",
      "text/plain": [
       "<Figure size 432x288 with 1 Axes>"
      ]
     },
     "metadata": {
      "needs_background": "light"
     },
     "output_type": "display_data"
    }
   ],
   "source": [
    "from sklearn.metrics import roc_auc_score, auc\n",
    "from sklearn.metrics import roc_curve\n",
    "logit_roc_auc = roc_auc_score(y_test, lr.predict(X_test))\n",
    "fpr, tpr, thresholds = roc_curve(y_test, lr.predict_proba(X_test)[:,1])\n",
    "plt.figure()\n",
    "plt.plot(fpr, tpr, label='Logistic Regression (AUC = %0.2f)' % logit_roc_auc)\n",
    "plt.plot([0, 1], [0, 1],'r--')\n",
    "plt.xlim([0.0, 1.0])\n",
    "plt.ylim([0.0, 1.05])\n",
    "plt.xlabel('False Positive Rate')\n",
    "plt.ylabel('True Positive Rate')\n",
    "plt.title('Receiver operating characteristic')\n",
    "plt.legend(loc=\"lower right\")\n",
    "plt.savefig('Log_ROC.png')\n",
    "plt.show()"
   ]
  },
  {
   "cell_type": "markdown",
   "metadata": {},
   "source": [
    "### Now apply Decision Tree model"
   ]
  },
  {
   "cell_type": "code",
   "execution_count": 41,
   "metadata": {
    "scrolled": true
   },
   "outputs": [
    {
     "name": "stdout",
     "output_type": "stream",
     "text": [
      "Best Criterion: entropy\n",
      "Best Num Split: 2\n",
      "Best Depth: 5\n",
      "Precision 0.8566978193146417\n",
      "Accuracy 0.9782122905027933\n",
      "AUC_ROC 0.9408555439779221\n",
      "[[3227   32]\n",
      " [  46  275]]\n",
      "0.9955279882922996\n"
     ]
    }
   ],
   "source": [
    "from sklearn.tree import DecisionTreeClassifier\n",
    "from sklearn.model_selection import cross_val_score\n",
    "from sklearn.model_selection import GridSearchCV\n",
    "\n",
    "# dt = DecisionTreeClassifier(random_state=42)\n",
    "# hyperparameters = {'criterion':('entropy','gini'),'min_samples_split':range(2,10,2),'max_depth':range(1,10,2)}\n",
    "# clf = GridSearchCV(dt, hyperparameters, cv=3, verbose=0)\n",
    "# model = clf.fit(X_train, y_train)\n",
    "\n",
    "# print('Criterion:', odel.best_estimator_.get_params()['criterion'])\n",
    "# print('Num Split:', model.best_estimator_.get_params()['min_samples_split'])\n",
    "# print('Depth:', model.best_estimator_.get_params()['max_depth'])\n",
    "\n",
    "# y_pred = model.predict(X_test)\n",
    "# y_hat_proba = model.predict_proba(X_test)[:,1]\n",
    "\n",
    "# scores = cross_val_score(model,X_test,y_pred, cv=5)\n",
    "# cm = confusion_matrix(y_test,y_pred)\n",
    "\n",
    "# print('Precision',precision_score(y_pred,y_test))\n",
    "# print('Accuracy', accuracy_score(y_test,y_pred))\n",
    "# print('AUC_ROC',roc_auc_score(y_pred,y_test))\n",
    "# print(cm)\n",
    "# print(scores.mean())"
   ]
  },
  {
   "cell_type": "code",
   "execution_count": 53,
   "metadata": {},
   "outputs": [
    {
     "name": "stdout",
     "output_type": "stream",
     "text": [
      "Accuracy 0.9782122905027933\n",
      "AUC_ROC 0.9408555439779221\n",
      "[[3227   32]\n",
      " [  46  275]]\n",
      "Recall 0.8957654723127035\n",
      "Precision 0.8566978193146417\n"
     ]
    }
   ],
   "source": [
    "dt = DecisionTreeClassifier(criterion='entropy',min_samples_split=2,max_depth=5,random_state=42)\n",
    "dt.fit(X_train, y_train)\n",
    "\n",
    "y_pred = dt.predict(X_test)\n",
    "y_hat_proba = dt.predict_proba(X_test)[:,1]\n",
    "\n",
    "fpr, tpr, threshold = roc_curve(y_test, y_hat_proba)\n",
    "roc_auc = auc(fpr, tpr)\n",
    "\n",
    "scores = cross_val_score(dt,X_test,y_pred, cv=5)\n",
    "cm = confusion_matrix(y_test,y_pred)\n",
    "\n",
    "print('Accuracy', accuracy_score(y_test,y_pred))\n",
    "print('AUC_ROC',roc_auc_score(y_pred,y_test))\n",
    "print(cm)\n",
    "print('Recall', recall_score(y_pred,y_test))\n",
    "print('Precision',precision_score(y_pred,y_test))"
   ]
  },
  {
   "cell_type": "code",
   "execution_count": 48,
   "metadata": {},
   "outputs": [
    {
     "name": "stdout",
     "output_type": "stream",
     "text": [
      "Best K_value: 7\n",
      "Best p: 1\n",
      "Precision 0.8037383177570093\n",
      "Accuracy 0.976536312849162\n",
      "AUC_ROC 0.95282302853811\n",
      "[[3238   21]\n",
      " [  63  258]]\n",
      "0.9918990430418401\n"
     ]
    }
   ],
   "source": [
    "from sklearn.neighbors import KNeighborsClassifier\n",
    "\n",
    "knn = KNeighborsClassifier(metric='minkowski',weights='uniform')\n",
    "hyperparameters = {'n_neighbors':range(3,10,1), 'p':[1,2]}\n",
    "clf = GridSearchCV(knn, hyperparameters, cv=5, verbose=0,n_jobs=-1)\n",
    "model = clf.fit(X_train, y_train)\n",
    "\n",
    "print('K_value:', model.best_estimator_.get_params()['n_neighbors'])\n",
    "print('p:', model.best_estimator_.get_params()['p'])\n",
    "\n",
    "y_pred = model.predict(X_test)\n",
    "y_hat_proba = model.predict_proba(X_test)[:,1]\n",
    "\n",
    "scores = cross_val_score(model,X_test,y_pred, cv= 5)\n",
    "cm = confusion_matrix(y_test,y_pred)\n",
    "print('Precision',precision_score(y_pred,y_test))\n",
    "print('Accuracy', accuracy_score(y_test,y_pred))\n",
    "print('AUC_ROC',roc_auc_score(y_pred,y_test))\n",
    "print(cm)\n",
    "print(scores.mean())"
   ]
  },
  {
   "cell_type": "code",
   "execution_count": 42,
   "metadata": {},
   "outputs": [
    {
     "name": "stdout",
     "output_type": "stream",
     "text": [
      "Best Penalty: l1\n",
      "Best C: 1\n",
      "Precision 0.8286604361370716\n",
      "Accuracy 0.979608938547486\n",
      "AUC_ROC 0.9599664125529878\n",
      "[[3241   18]\n",
      " [  55  266]]\n"
     ]
    }
   ],
   "source": [
    "logistic = LogisticRegression(random_state=42)\n",
    "hyperparameters = {'penalty':('l1','l2'),'C':[1,3]}\n",
    "clf = GridSearchCV(logistic, hyperparameters, cv=3, verbose=0)\n",
    "model = clf.fit(X_train, y_train)\n",
    "\n",
    "print('Penalty:', model.best_estimator_.get_params()['penalty'])\n",
    "print('C:', model.best_estimator_.get_params()['C'])\n",
    "\n",
    "y_pred = model.predict(X_test)\n",
    "y_hat_proba = model.predict_proba(X_test)[:,1]\n",
    "\n",
    "cm = confusion_matrix(y_test,y_pred)\n",
    "print('Precision',precision_score(y_pred,y_test))\n",
    "print('Accuracy', accuracy_score(y_test,y_pred))\n",
    "print('AUC_ROC',roc_auc_score(y_pred,y_test))\n",
    "print(cm)"
   ]
  },
  {
   "cell_type": "code",
   "execution_count": 46,
   "metadata": {},
   "outputs": [
    {
     "name": "stdout",
     "output_type": "stream",
     "text": [
      "Best Penalty: l1\n",
      "Best C: 1\n",
      "Precision 0.8161993769470405\n",
      "Accuracy 0.9793296089385475\n",
      "AUC_ROC 0.9639929131267823\n",
      "0.9966464787403989\n",
      "[[3244   15]\n",
      " [  59  262]]\n"
     ]
    }
   ],
   "source": [
    "from sklearn.svm import LinearSVC\n",
    "\n",
    "svm = LinearSVC(dual=False,random_state=42)\n",
    "hyperparameters = {'penalty':('l1','l2'),\n",
    "                   'C':[1,3]}\n",
    "\n",
    "clf = GridSearchCV(svm, hyperparameters, cv=5, verbose=0)\n",
    "model = clf.fit(X_train, y_train)\n",
    "\n",
    "print('Penalty:', model.best_estimator_.get_params()['penalty'])\n",
    "print('C:', model.best_estimator_.get_params()['C'])\n",
    "\n",
    "y_pred = model.predict(X_test)\n",
    "\n",
    "cm = confusion_matrix(y_test,y_pred)\n",
    "scores = cross_val_score(model,X_test,y_pred, cv= 5)\n",
    "\n",
    "print('Precision',precision_score(y_pred,y_test))\n",
    "print('Accuracy', accuracy_score(y_test,y_pred))\n",
    "print('AUC_ROC',roc_auc_score(y_pred,y_test))\n",
    "print(scores.mean())\n",
    "print(cm)"
   ]
  },
  {
   "cell_type": "code",
   "execution_count": 47,
   "metadata": {},
   "outputs": [
    {
     "name": "stdout",
     "output_type": "stream",
     "text": [
      "Best Loss: perceptron\n",
      "Best penalty: l1\n",
      "Best learning_rate: optimal\n",
      "Precision 0.8161993769470405\n",
      "Accuracy 0.9801675977653631\n",
      "AUC_ROC 0.9691790197870715\n",
      "0.9938516210576237\n",
      "[[3247   12]\n",
      " [  59  262]]\n"
     ]
    }
   ],
   "source": [
    "from sklearn.linear_model import SGDClassifier\n",
    "\n",
    "svm = SGDClassifier(eta0=1,random_state=42)\n",
    "hyperparameters = {'loss':('log','perceptron'),\n",
    "                   'penalty':('l1','l2','elasticnet'),\n",
    "                   'learning_rate':('constant','optimal','invscaling','adaptive')}\n",
    "clf = GridSearchCV(svm, hyperparameters, cv=5, verbose=0)\n",
    "model = clf.fit(X_train, y_train)\n",
    "\n",
    "print('Loss:', model.best_estimator_.get_params()['loss'])\n",
    "print('penalty:', model.best_estimator_.get_params()['penalty'])\n",
    "print('learning_rate:', model.best_estimator_.get_params()['learning_rate'])\n",
    "\n",
    "y_pred = model.predict(X_test)\n",
    "\n",
    "cm = confusion_matrix(y_test,y_pred)\n",
    "scores = cross_val_score(model,X_test,y_pred, cv= 5)\n",
    "\n",
    "print('Precision',precision_score(y_pred,y_test))\n",
    "print('Accuracy', accuracy_score(y_test,y_pred))\n",
    "print('AUC_ROC',roc_auc_score(y_pred,y_test))\n",
    "print(scores.mean())\n",
    "print(cm)"
   ]
  },
  {
   "cell_type": "code",
   "execution_count": 49,
   "metadata": {},
   "outputs": [
    {
     "name": "stdout",
     "output_type": "stream",
     "text": [
      "Best Citerion: entropy\n",
      "Best n_estimator: 18\n",
      "Best min_sample_splits: 3\n",
      "Best max_depth: 9\n",
      "Precision 0.838006230529595\n",
      "Accuracy 0.9798882681564246\n",
      "AUC_ROC 0.9574975896305222\n",
      "[[3239   20]\n",
      " [  52  269]]\n",
      "0.9921779841594713\n"
     ]
    }
   ],
   "source": [
    "from sklearn.ensemble import RandomForestClassifier\n",
    "\n",
    "rf = RandomForestClassifier()\n",
    "hyperparameters = {'n_estimators':range(10,20,2), \n",
    "                   'criterion':('entropy','gini'),\n",
    "                   'max_depth':range(1,10,2),\n",
    "                   'min_samples_split':range(2,10,1)}\n",
    "\n",
    "clf = GridSearchCV(rf, hyperparameters, cv=5, verbose=0,n_jobs=-1)\n",
    "model = clf.fit(X_train, y_train)\n",
    "\n",
    "print('Criterion:', model.best_estimator_.get_params()['criterion'])\n",
    "print('n_estimator:', model.best_estimator_.get_params()['n_estimators'])\n",
    "print('min_sample_splits:', model.best_estimator_.get_params()['min_samples_split'])\n",
    "print('max_depth:', model.best_estimator_.get_params()['max_depth'])\n",
    "\n",
    "y_pred = model.predict(X_test)\n",
    "y_hat_proba = model.predict_proba(X_test)[:,1]\n",
    "\n",
    "scores = cross_val_score(model,X_test,y_pred, cv= 5)\n",
    "cm = confusion_matrix(y_test,y_pred)\n",
    "\n",
    "print('Precision',precision_score(y_pred,y_test))\n",
    "print('Accuracy', accuracy_score(y_test,y_pred))\n",
    "print('AUC_ROC',roc_auc_score(y_pred,y_test))\n",
    "print(cm)\n",
    "print(scores.mean())"
   ]
  },
  {
   "cell_type": "code",
   "execution_count": 50,
   "metadata": {},
   "outputs": [
    {
     "name": "stdout",
     "output_type": "stream",
     "text": [
      "[[3239   20]\n",
      " [  52  269]]\n",
      "0.9921779841594713\n",
      "Precision 0.8193146417445483\n",
      "Accuracy 0.9773743016759776\n",
      "AUC_ROC 0.9509863239371436\n"
     ]
    }
   ],
   "source": [
    "from sklearn.ensemble import AdaBoostClassifier\n",
    "\n",
    "ada_boost = AdaBoostClassifier(learning_rate=0.99)\n",
    "hyperparameters = {'n_estimators':range(100,200,10)}\n",
    "clf = GridSearchCV(ada_boost, hyperparameters, cv=5, verbose=0,n_jobs=-1)\n",
    "model = clf.fit(X_train, y_train)\n",
    "\n",
    "y_pred = model.predict(X_test)\n",
    "cross_val_score(model,X_test,y_pred, cv= 5)\n",
    "\n",
    "print(cm)\n",
    "print(scores.mean())\n",
    "print('Precision',precision_score(y_pred,y_test))\n",
    "print('Accuracy', accuracy_score(y_test,y_pred))\n",
    "print('AUC_ROC',roc_auc_score(y_pred,y_test))"
   ]
  },
  {
   "cell_type": "code",
   "execution_count": null,
   "metadata": {},
   "outputs": [],
   "source": []
  }
 ],
 "metadata": {
  "kernelspec": {
   "display_name": "Python [conda env:learn-env] *",
   "language": "python",
   "name": "conda-env-learn-env-py"
  },
  "language_info": {
   "codemirror_mode": {
    "name": "ipython",
    "version": 3
   },
   "file_extension": ".py",
   "mimetype": "text/x-python",
   "name": "python",
   "nbconvert_exporter": "python",
   "pygments_lexer": "ipython3",
   "version": "3.6.6"
  }
 },
 "nbformat": 4,
 "nbformat_minor": 2
}
